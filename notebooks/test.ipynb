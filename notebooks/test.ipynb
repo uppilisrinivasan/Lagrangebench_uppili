{
 "cells": [
  {
   "cell_type": "code",
   "execution_count": 1,
   "metadata": {},
   "outputs": [
    {
     "name": "stderr",
     "output_type": "stream",
     "text": [
      "2024-01-24 15:25:23.346083: E external/xla/xla/stream_executor/cuda/cuda_driver.cc:273] failed call to cuInit: CUDA_ERROR_NO_DEVICE: no CUDA-capable device is detected\n",
      "CUDA backend failed to initialize: FAILED_PRECONDITION: No visible GPU devices. (Set TF_CPP_MIN_LOG_LEVEL=0 and rerun for more info.)\n"
     ]
    }
   ],
   "source": [
    "import os\n",
    "os.environ[\"CUDA_VISIBLE_DEVICES\"] = \"\"\n",
    "os.environ[\"JAX_ENABLE_X64\"] = \"True\"\n",
    "\n",
    "import lagrangebench\n",
    "import haiku as hk\n",
    "import numpy as np\n",
    "import matplotlib.pyplot as plt\n",
    "import pickle\n",
    "import matplotlib.animation as animation"
   ]
  },
  {
   "cell_type": "code",
   "execution_count": 2,
   "metadata": {},
   "outputs": [],
   "source": [
    "from lagrangebench.data import HT2D"
   ]
  },
  {
   "cell_type": "code",
   "execution_count": 2,
   "metadata": {},
   "outputs": [
    {
     "name": "stdout",
     "output_type": "stream",
     "text": [
      "This is a 2D dataset called HT.\n",
      "Train snapshot have shape (950, 12) (n_nodes, seq_len, xy pos).\n",
      "Val snapshot have shape (950, 26) (n_nodes, rollout, xy pos).\n",
      "\n"
     ]
    }
   ],
   "source": [
    "ht2d_train = lagrangebench.data.HT2D(\"train\", extra_seq_length=5)  # extra_seq_length=5 will be clear later\n",
    "ht2d_valid = lagrangebench.data.HT2D(\"valid\", extra_seq_length=20)\n",
    "\n",
    "print(\n",
    "    f\"This is a {ht2d_train.metadata['dim']}D dataset \"\n",
    "    f\"called {ht2d_train.metadata['case']}.\\n\"\n",
    "    f\"Train snapshot have shape {ht2d_train[0][2].shape} (n_nodes, seq_len, xy pos).\\n\"\n",
    "    f\"Val snapshot have shape {ht2d_valid[0][2].shape} (n_nodes, rollout, xy pos).\\n\"\n",
    ")"
   ]
  },
  {
   "cell_type": "code",
   "execution_count": 8,
   "metadata": {},
   "outputs": [
    {
     "data": {
      "text/plain": [
       "array([1.0156544, 1.0169849, 1.018404 , 1.0199188, 1.0215336, 1.0232562,\n",
       "       1.0251017, 1.0270879, 1.0292275, 1.0315272, 1.0339942, 1.0366477],\n",
       "      dtype=float32)"
      ]
     },
     "execution_count": 8,
     "metadata": {},
     "output_type": "execute_result"
    }
   ],
   "source": [
    "ht2d_train[0][2][400]"
   ]
  },
  {
   "cell_type": "code",
   "execution_count": 13,
   "metadata": {},
   "outputs": [
    {
     "data": {
      "text/plain": [
       "Text(0, 0.5, 'temp')"
      ]
     },
     "execution_count": 13,
     "metadata": {},
     "output_type": "execute_result"
    },
    {
     "data": {
      "image/png": "[encoded data removed]",
      "text/plain": [
       "<Figure size 800x400 with 1 Axes>"
      ]
     },
     "metadata": {},
     "output_type": "display_data"
    }
   ],
   "source": [
    "temp = []\n",
    "for i in range (0,12):\n",
    "    temp.append(ht2d_valid[0][2][150][i])\n",
    "\n",
    "plt.figure(figsize=(8,4))\n",
    "plt.plot(np.arange(0,12), temp, 'xb', label='dataset')\n",
    "    \n",
    "plt.legend() \n",
    "plt.grid()\n",
    "plt.title(\"temperature\")\n",
    "plt.xlabel('traj')\n",
    "plt.ylabel('temp')"
   ]
  },
  {
   "cell_type": "code",
   "execution_count": 5,
   "metadata": {},
   "outputs": [],
   "source": [
    "def gns(x):\n",
    "    return lagrangebench.GNS(\n",
    "        particle_dimension=ht2d_train.metadata[\"dim\"],\n",
    "        latent_size=16,\n",
    "        blocks_per_step=2,\n",
    "        num_mp_steps=4,\n",
    "        particle_type_embedding_size=8,\n",
    "    )(x)"
   ]
  },
  {
   "cell_type": "code",
   "execution_count": 6,
   "metadata": {},
   "outputs": [],
   "source": [
    "gns = hk.without_apply_rng(hk.transform_with_state(gns))"
   ]
  },
  {
   "cell_type": "code",
   "execution_count": 7,
   "metadata": {},
   "outputs": [],
   "source": [
    "noise_std = 3e-4\n",
    "\n",
    "pf_config = lagrangebench.PushforwardConfig(\n",
    "    steps=[-1, 500, 700],  # training steps to unlock the relative stage\n",
    "    unrolls=[0, 2, 5],  # number of unroll steps per stage\n",
    "    probs=[7, 2, 1],  # relative probabilities to unroll to the relative stage\n",
    ")"
   ]
  },
  {
   "cell_type": "code",
   "execution_count": 8,
   "metadata": {},
   "outputs": [],
   "source": [
    "bounds = np.array(ht2d_train.metadata[\"bounds\"])\n",
    "box = bounds[:, 1] - bounds[:, 0]\n",
    "\n",
    "ht2d_case = lagrangebench.case_builder(\n",
    "    box=box,  # (x,y) array with the world size along each axis. (1.0, 1.0) for 2D TGV\n",
    "    metadata=ht2d_train.metadata,  # metadata dictionary\n",
    "    input_seq_length=6,  # number of consecutive time steps fed to the model\n",
    "    isotropic_norm=False,  # whether to normalize each dimension independently\n",
    "    noise_std=noise_std,  # noise standard deviation used by the random-walk noise\n",
    ")"
   ]
  },
  {
   "cell_type": "code",
   "execution_count": 9,
   "metadata": {},
   "outputs": [
    {
     "name": "stderr",
     "output_type": "stream",
     "text": [
      "/home/uppili11/.local/lib/python3.10/site-packages/jax/_src/ops/scatter.py:94: FutureWarning: scatter inputs have incompatible types: cannot safely cast value from dtype=int64 to dtype=int32 with jax_numpy_dtype_promotion='standard'. In future JAX releases this will result in an error.\n",
      "  warnings.warn(\n"
     ]
    },
    {
     "name": "stdout",
     "output_type": "stream",
     "text": [
      "000, train/loss: 4.71329.\n",
      "010, train/loss: 2.05232.\n",
      "020, train/loss: 2.04441.\n",
      "030, train/loss: 1.61464.\n",
      "040, train/loss: 1.64402.\n",
      "050, train/loss: 1.56134.\n",
      "(eval) Reallocate neighbors list at step 15\n"
     ]
    },
    {
     "name": "stderr",
     "output_type": "stream",
     "text": [
      "/home/uppili11/.local/lib/python3.10/site-packages/jax/_src/ops/scatter.py:94: FutureWarning: scatter inputs have incompatible types: cannot safely cast value from dtype=int64 to dtype=int32 with jax_numpy_dtype_promotion='standard'. In future JAX releases this will result in an error.\n",
      "  warnings.warn(\n"
     ]
    },
    {
     "name": "stdout",
     "output_type": "stream",
     "text": [
      "(eval) From (2, 9480) to (2, 9125)\n",
      "{'val/loss': 1.510669921729404e-05, 'val/mse1': 1.974376811676568e-08, 'val/mse10': 2.7127390315016033e-06, 'val/mse5': 6.263660533961574e-07, 'val/stdloss': 0.0, 'val/stdmse1': 0.0, 'val/stdmse10': 0.0, 'val/stdmse5': 0.0}\n",
      "060, train/loss: 1.44347.\n",
      "070, train/loss: 1.39556.\n",
      "080, train/loss: 1.32155.\n",
      "090, train/loss: 1.43030.\n",
      "100, train/loss: 1.37900.\n",
      "(eval) Reallocate neighbors list at step 13\n",
      "(eval) From (2, 9480) to (2, 9105)\n",
      "{'val/loss': 1.4222164218912845e-05, 'val/mse1': 1.7840160532734653e-08, 'val/mse10': 2.2500510064368926e-06, 'val/mse5': 5.211802533112739e-07, 'val/stdloss': 0.0, 'val/stdmse1': 0.0, 'val/stdmse10': 0.0, 'val/stdmse5': 0.0}\n"
     ]
    }
   ],
   "source": [
    "trainer = lagrangebench.Trainer(\n",
    "    model=gns,\n",
    "    case=ht2d_case,\n",
    "    data_train=ht2d_train,\n",
    "    data_valid=ht2d_valid,\n",
    "    pushforward=pf_config,\n",
    "    noise_std=noise_std,\n",
    "    metrics=[\"mse\"],\n",
    "    n_rollout_steps=20,\n",
    "    eval_n_trajs=1,\n",
    "    lr_start=5e-4,\n",
    "    log_steps=10,\n",
    "    eval_steps=50,\n",
    "    batch_size_infer=1,\n",
    ")\n",
    "\n",
    "params, state, _ = trainer(step_max=100)"
   ]
  },
  {
   "cell_type": "code",
   "execution_count": 10,
   "metadata": {},
   "outputs": [],
   "source": [
    "ht2d_test = lagrangebench.HT2D(\"test\", extra_seq_length=20)"
   ]
  },
  {
   "cell_type": "code",
   "execution_count": 11,
   "metadata": {},
   "outputs": [],
   "source": [
    "metrics = lagrangebench.infer(\n",
    "    gns,\n",
    "    ht2d_case,\n",
    "    ht2d_test,\n",
    "    params,\n",
    "    state,\n",
    "    metrics=[\"mse\", \"sinkhorn\"],\n",
    "    eval_n_trajs=1,\n",
    "    n_rollout_steps=20,\n",
    "    rollout_dir=\"rollouts/\",\n",
    "    out_type=\"pkl\",\n",
    "    batch_size=1,\n",
    ")[\"rollout_0\"]\n",
    "rollout = pickle.load(open(\"rollouts/rollout_0.pkl\", \"rb\"))"
   ]
  },
  {
   "cell_type": "code",
   "execution_count": 12,
   "metadata": {},
   "outputs": [
    {
     "data": {
      "image/png": "[encoded data removed]",
      "text/plain": [
       "<Figure size 1200x400 with 2 Axes>"
      ]
     },
     "metadata": {},
     "output_type": "display_data"
    }
   ],
   "source": [
    "# plot metrics\n",
    "fig, ax = plt.subplots(1, 2, figsize=(12, 4))\n",
    "\n",
    "# plot the metrics\n",
    "for i, m in enumerate([\"mse\", \"sinkhorn\"]):\n",
    "    ax[i].plot(metrics[m])\n",
    "    ax[i].set_title(m)"
   ]
  },
  {
   "cell_type": "code",
   "execution_count": 13,
   "metadata": {},
   "outputs": [
    {
     "name": "stdout",
     "output_type": "stream",
     "text": [
      "rollout of shape (26, 950, 2) (steps, nodes, xy pos)\n"
     ]
    },
    {
     "data": {
      "text/html": [
       "<img src=\"media/scatter.gif\"/>"
      ],
      "text/plain": [
       "<IPython.core.display.Image object>"
      ]
     },
     "execution_count": 13,
     "metadata": {},
     "output_type": "execute_result"
    }
   ],
   "source": [
    "print(f\"rollout of shape {rollout['predicted_rollout'].shape} (steps, nodes, xy pos)\")\n",
    "\n",
    "fig, ax = plt.subplots(1, 2)\n",
    "ax[0].set_xlim([0, 1.0])\n",
    "ax[0].set_ylim([0, 1.0])\n",
    "ax[1].set_xlim([0, 1.0])\n",
    "ax[1].set_ylim([0, 1.0])\n",
    "fig.set_size_inches(10, 5, forward=True)\n",
    "ax[0].set_title(\"GNS\")\n",
    "ax[1].set_title(\"Ground Truth\")\n",
    "\n",
    "rollout_len = rollout[\"predicted_rollout\"].shape[0] - 1\n",
    "\n",
    "scat0 = ax[0].scatter(\n",
    "    rollout[\"predicted_rollout\"][0, :, 0], rollout[\"predicted_rollout\"][0, :, 1]\n",
    ")\n",
    "scat1 = ax[1].scatter(\n",
    "    rollout[\"ground_truth_rollout\"][0, :, 0], rollout[\"ground_truth_rollout\"][0, :, 1]\n",
    ")\n",
    "\n",
    "\n",
    "def animate(i):\n",
    "    scat0.set_offsets(rollout[\"predicted_rollout\"][i])\n",
    "    scat1.set_offsets(rollout[\"ground_truth_rollout\"][i])\n",
    "    return scat0, scat1\n",
    "\n",
    "\n",
    "ani = animation.FuncAnimation(\n",
    "    fig, animate, repeat=True, frames=rollout_len, interval=50\n",
    ")\n",
    "\n",
    "plt.close(fig)\n",
    "\n",
    "writer = animation.PillowWriter(fps=10, metadata=dict(artist=\"Me\"), bitrate=1800)\n",
    "ani.save(\"media/scatter.gif\", writer=writer)\n",
    "\n",
    "from IPython.display import Image\n",
    "\n",
    "Image(url=\"media/scatter.gif\")"
   ]
  },
  {
   "cell_type": "code",
   "execution_count": 28,
   "metadata": {},
   "outputs": [
    {
     "name": "stdout",
     "output_type": "stream",
     "text": [
      "0000, train/loss: 1.64200.\n",
      "0500, train/loss: 0.07422.\n",
      "Reallocate neighbors list at step 618\n",
      "From (2, 8098) to (2, 8063)\n",
      "Reallocate neighbors list at step 630\n",
      "From (2, 8063) to (2, 8118)\n",
      "1000, train/loss: 0.09015.\n",
      "Reallocate neighbors list at step 1440\n",
      "From (2, 8118) to (2, 8098)\n",
      "Reallocate neighbors list at step 1448\n",
      "From (2, 8098) to (2, 8036)\n",
      "Reallocate neighbors list at step 1473\n",
      "From (2, 8036) to (2, 8098)\n",
      "1500, train/loss: 0.21223.\n",
      "Reallocate neighbors list at step 1648\n",
      "From (2, 8098) to (2, 7948)\n",
      "Reallocate neighbors list at step 1824\n",
      "From (2, 7948) to (2, 7996)\n",
      "Reallocate neighbors list at step 1945\n",
      "From (2, 7996) to (2, 8096)\n",
      "2000, train/loss: 0.02419.\n",
      "Reallocate neighbors list at step 2246\n",
      "From (2, 8096) to (2, 8016)\n",
      "2500, train/loss: 0.07301.\n",
      "(eval) Reallocate neighbors list at step 3\n",
      "(eval) From (2, 8016) to (2, 8221)\n",
      "{'val/loss': 6.098418789396154e-05, 'val/mse1': 5.651146235914734e-06, 'val/mse10': 3.3380296873077285e-05, 'val/mse5': 2.763932436695676e-05, 'val/stdloss': 0.0, 'val/stdmse1': 0.0, 'val/stdmse10': 0.0, 'val/stdmse5': 0.0}\n",
      "Reallocate neighbors list at step 2663\n",
      "From (2, 8016) to (2, 8051)\n",
      "Reallocate neighbors list at step 2836\n",
      "From (2, 8051) to (2, 8051)\n",
      "Reallocate neighbors list at step 2891\n",
      "From (2, 8051) to (2, 8101)\n",
      "Reallocate neighbors list at step 2999\n",
      "From (2, 8101) to (2, 8083)\n",
      "3000, train/loss: 0.07030.\n",
      "Reallocate neighbors list at step 3191\n",
      "From (2, 8083) to (2, 8028)\n",
      "Reallocate neighbors list at step 3348\n",
      "From (2, 8028) to (2, 8088)\n",
      "Reallocate neighbors list at step 3352\n",
      "From (2, 8088) to (2, 8141)\n",
      "3500, train/loss: 1.50453.\n",
      "Reallocate neighbors list at step 3608\n",
      "From (2, 8141) to (2, 8058)\n",
      "Reallocate neighbors list at step 3627\n",
      "From (2, 8058) to (2, 8023)\n",
      "Reallocate neighbors list at step 3773\n",
      "From (2, 8023) to (2, 8158)\n",
      "Reallocate neighbors list at step 3805\n",
      "From (2, 8158) to (2, 8078)\n",
      "4000, train/loss: 0.11720.\n",
      "4500, train/loss: 0.54921.\n",
      "5000, train/loss: 0.32751.\n",
      "{'val/loss': 3.253394757530156e-05, 'val/mse1': 3.576200153162078e-06, 'val/mse10': 2.2941570519254e-05, 'val/mse5': 2.005682259028266e-05, 'val/stdloss': 0.0, 'val/stdmse1': 0.0, 'val/stdmse10': 0.0, 'val/stdmse5': 0.0}\n"
     ]
    }
   ],
   "source": [
    "trainer = lagrangebench.Trainer(\n",
    "    model=gns,\n",
    "    case=ht2d_case,\n",
    "    data_train=ht2d_train,\n",
    "    data_valid=ht2d_valid,\n",
    "    pushforward=pf_config,\n",
    "    noise_std=noise_std,\n",
    "    metrics=[\"mse\"],\n",
    "    n_rollout_steps=20,\n",
    "    eval_n_trajs=1,\n",
    "    lr_start=5e-4,\n",
    "    log_steps=500,\n",
    "    eval_steps=2500,\n",
    "    batch_size_infer=1,\n",
    ")\n",
    "\n",
    "params, state, _ = trainer(step_max=5000)"
   ]
  },
  {
   "cell_type": "code",
   "execution_count": 29,
   "metadata": {},
   "outputs": [],
   "source": [
    "ht2d_test = lagrangebench.HT2D(\"test\", extra_seq_length=20)"
   ]
  },
  {
   "cell_type": "code",
   "execution_count": 30,
   "metadata": {},
   "outputs": [
    {
     "name": "stdout",
     "output_type": "stream",
     "text": [
      "(eval) Reallocate neighbors list at step 7\n",
      "(eval) From (2, 8143) to (2, 8208)\n"
     ]
    }
   ],
   "source": [
    "metrics = lagrangebench.infer(\n",
    "    gns,\n",
    "    ht2d_case,\n",
    "    ht2d_test,\n",
    "    params,\n",
    "    state,\n",
    "    metrics=[\"mse\", \"sinkhorn\"],\n",
    "    eval_n_trajs=1,\n",
    "    n_rollout_steps=20,\n",
    "    rollout_dir=\"rollouts/\",\n",
    "    out_type=\"pkl\",\n",
    "    batch_size=1,\n",
    ")[\"rollout_0\"]\n",
    "rollout = pickle.load(open(\"rollouts/rollout_0.pkl\", \"rb\"))"
   ]
  },
  {
   "cell_type": "code",
   "execution_count": 31,
   "metadata": {},
   "outputs": [
    {
     "data": {
      "image/png": "[encoded data removed]",
      "text/plain": [
       "<Figure size 1200x400 with 2 Axes>"
      ]
     },
     "metadata": {},
     "output_type": "display_data"
    }
   ],
   "source": [
    "# plot metrics\n",
    "fig, ax = plt.subplots(1, 2, figsize=(12, 4))\n",
    "\n",
    "# plot the metrics\n",
    "for i, m in enumerate([\"mse\", \"sinkhorn\"]):\n",
    "    ax[i].plot(metrics[m])\n",
    "    ax[i].set_title(m)"
   ]
  },
  {
   "cell_type": "code",
   "execution_count": 32,
   "metadata": {},
   "outputs": [
    {
     "name": "stdout",
     "output_type": "stream",
     "text": [
      "rollout of shape (26, 865, 2) (steps, nodes, xy pos)\n"
     ]
    },
    {
     "data": {
      "text/html": [
       "<img src=\"media/scatter2.gif\"/>"
      ],
      "text/plain": [
       "<IPython.core.display.Image object>"
      ]
     },
     "execution_count": 32,
     "metadata": {},
     "output_type": "execute_result"
    }
   ],
   "source": [
    "print(f\"rollout of shape {rollout['predicted_rollout'].shape} (steps, nodes, xy pos)\")\n",
    "\n",
    "fig, ax = plt.subplots(1, 2)\n",
    "ax[0].set_xlim([0, 1.0])\n",
    "ax[0].set_ylim([0, 1.0])\n",
    "ax[1].set_xlim([0, 1.0])\n",
    "ax[1].set_ylim([0, 1.0])\n",
    "fig.set_size_inches(10, 5, forward=True)\n",
    "ax[0].set_title(\"GNS\")\n",
    "ax[1].set_title(\"Ground Truth\")\n",
    "\n",
    "rollout_len = rollout[\"predicted_rollout\"].shape[0] - 1\n",
    "\n",
    "scat0 = ax[0].scatter(\n",
    "    rollout[\"predicted_rollout\"][0, :, 0], rollout[\"predicted_rollout\"][0, :, 1]\n",
    ")\n",
    "scat1 = ax[1].scatter(\n",
    "    rollout[\"ground_truth_rollout\"][0, :, 0], rollout[\"ground_truth_rollout\"][0, :, 1]\n",
    ")\n",
    "\n",
    "\n",
    "def animate(i):\n",
    "    scat0.set_offsets(rollout[\"predicted_rollout\"][i])\n",
    "    scat1.set_offsets(rollout[\"ground_truth_rollout\"][i])\n",
    "    return scat0, scat1\n",
    "\n",
    "\n",
    "ani = animation.FuncAnimation(\n",
    "    fig, animate, repeat=True, frames=rollout_len, interval=50\n",
    ")\n",
    "\n",
    "plt.close(fig)\n",
    "\n",
    "writer = animation.PillowWriter(fps=10, metadata=dict(artist=\"Me\"), bitrate=1800)\n",
    "ani.save(\"media/scatter2.gif\", writer=writer)\n",
    "\n",
    "from IPython.display import Image\n",
    "\n",
    "Image(url=\"media/scatter2.gif\")"
   ]
  },
  {
   "cell_type": "code",
   "execution_count": 33,
   "metadata": {},
   "outputs": [
    {
     "name": "stdout",
     "output_type": "stream",
     "text": [
      "00000, train/loss: 1.64200.\n",
      "Reallocate neighbors list at step 618\n",
      "From (2, 8098) to (2, 8063)\n",
      "Reallocate neighbors list at step 630\n",
      "From (2, 8063) to (2, 8118)\n",
      "01000, train/loss: 0.09015.\n",
      "Reallocate neighbors list at step 1440\n",
      "From (2, 8118) to (2, 8098)\n",
      "Reallocate neighbors list at step 1448\n",
      "From (2, 8098) to (2, 8036)\n",
      "Reallocate neighbors list at step 1473\n",
      "From (2, 8036) to (2, 8098)\n",
      "Reallocate neighbors list at step 1648\n",
      "From (2, 8098) to (2, 7948)\n",
      "Reallocate neighbors list at step 1824\n",
      "From (2, 7948) to (2, 7996)\n",
      "Reallocate neighbors list at step 1945\n",
      "From (2, 7996) to (2, 8096)\n",
      "02000, train/loss: 0.02419.\n",
      "Reallocate neighbors list at step 2246\n",
      "From (2, 8096) to (2, 8016)\n",
      "Reallocate neighbors list at step 2940\n",
      "From (2, 8016) to (2, 8123)\n",
      "03000, train/loss: 0.05211.\n",
      "Reallocate neighbors list at step 3114\n",
      "From (2, 8123) to (2, 8108)\n",
      "Reallocate neighbors list at step 3136\n",
      "From (2, 8108) to (2, 8053)\n",
      "Reallocate neighbors list at step 3367\n",
      "From (2, 8053) to (2, 8061)\n",
      "Reallocate neighbors list at step 3640\n",
      "From (2, 8061) to (2, 8116)\n",
      "Reallocate neighbors list at step 3725\n",
      "From (2, 8116) to (2, 8158)\n",
      "04000, train/loss: 3.58802.\n",
      "Reallocate neighbors list at step 4011\n",
      "From (2, 8158) to (2, 7988)\n",
      "Reallocate neighbors list at step 4133\n",
      "From (2, 7988) to (2, 8063)\n",
      "05000, train/loss: 0.04728.\n",
      "{'val/loss': 7.641619873936892e-05, 'val/mse1': 3.938303903795433e-06, 'val/mse10': 3.159924464030072e-05, 'val/mse5': 2.196554544361452e-05, 'val/stdloss': 0.0, 'val/stdmse1': 0.0, 'val/stdmse10': 0.0, 'val/stdmse5': 0.0}\n",
      "06000, train/loss: 2.09587.\n",
      "07000, train/loss: 0.05361.\n",
      "Reallocate neighbors list at step 7508\n",
      "From (2, 8063) to (2, 8058)\n",
      "Reallocate neighbors list at step 7668\n",
      "From (2, 8058) to (2, 8078)\n",
      "Reallocate neighbors list at step 7958\n",
      "From (2, 8078) to (2, 8063)\n",
      "08000, train/loss: 0.03713.\n",
      "Reallocate neighbors list at step 8099\n",
      "From (2, 8063) to (2, 8173)\n",
      "Reallocate neighbors list at step 8530\n",
      "From (2, 8173) to (2, 8018)\n",
      "Reallocate neighbors list at step 8541\n",
      "From (2, 8018) to (2, 8128)\n",
      "Reallocate neighbors list at step 8661\n",
      "From (2, 8128) to (2, 8141)\n",
      "Reallocate neighbors list at step 8781\n",
      "From (2, 8141) to (2, 8061)\n",
      "09000, train/loss: 0.20530.\n",
      "Reallocate neighbors list at step 9019\n",
      "From (2, 8061) to (2, 8013)\n",
      "Reallocate neighbors list at step 9320\n",
      "From (2, 8013) to (2, 8086)\n",
      "10000, train/loss: 0.14950.\n",
      "{'val/loss': 0.000104743816049521, 'val/mse1': 3.493139757402933e-06, 'val/mse10': 3.536550239550194e-05, 'val/mse5': 2.0332375272523324e-05, 'val/stdloss': 0.0, 'val/stdmse1': 0.0, 'val/stdmse10': 0.0, 'val/stdmse5': 0.0}\n"
     ]
    }
   ],
   "source": [
    "trainer = lagrangebench.Trainer(\n",
    "    model=gns,\n",
    "    case=ht2d_case,\n",
    "    data_train=ht2d_train,\n",
    "    data_valid=ht2d_valid,\n",
    "    pushforward=pf_config,\n",
    "    noise_std=noise_std,\n",
    "    metrics=[\"mse\"],\n",
    "    n_rollout_steps=20,\n",
    "    eval_n_trajs=1,\n",
    "    lr_start=5e-4,\n",
    "    log_steps=1000,\n",
    "    eval_steps=5000,\n",
    "    batch_size_infer=1,\n",
    ")\n",
    "\n",
    "params, state, _ = trainer(step_max=10000)"
   ]
  },
  {
   "cell_type": "code",
   "execution_count": 34,
   "metadata": {},
   "outputs": [],
   "source": [
    "ht2d_test = lagrangebench.TGV2D(\"test\", extra_seq_length=20)"
   ]
  },
  {
   "cell_type": "code",
   "execution_count": 35,
   "metadata": {},
   "outputs": [
    {
     "name": "stdout",
     "output_type": "stream",
     "text": [
      "(eval) Reallocate neighbors list at step 13\n",
      "(eval) From (2, 8143) to (2, 8311)\n"
     ]
    }
   ],
   "source": [
    "metrics = lagrangebench.infer(\n",
    "    gns,\n",
    "    ht2d_case,\n",
    "    ht2d_test,\n",
    "    params,\n",
    "    state,\n",
    "    metrics=[\"mse\", \"sinkhorn\"],\n",
    "    eval_n_trajs=1,\n",
    "    n_rollout_steps=20,\n",
    "    rollout_dir=\"rollouts/\",\n",
    "    out_type=\"pkl\",\n",
    "    batch_size=1,\n",
    ")[\"rollout_0\"]\n",
    "rollout = pickle.load(open(\"rollouts/rollout_0.pkl\", \"rb\"))"
   ]
  },
  {
   "cell_type": "code",
   "execution_count": 36,
   "metadata": {},
   "outputs": [
    {
     "data": {
      "image/png": "[encoded data removed]",
      "text/plain": [
       "<Figure size 1200x400 with 2 Axes>"
      ]
     },
     "metadata": {},
     "output_type": "display_data"
    }
   ],
   "source": [
    "# plot metrics\n",
    "fig, ax = plt.subplots(1, 2, figsize=(12, 4))\n",
    "\n",
    "# plot the metrics\n",
    "for i, m in enumerate([\"mse\", \"sinkhorn\"]):\n",
    "    ax[i].plot(metrics[m])\n",
    "    ax[i].set_title(m)"
   ]
  },
  {
   "cell_type": "code",
   "execution_count": 37,
   "metadata": {},
   "outputs": [
    {
     "name": "stdout",
     "output_type": "stream",
     "text": [
      "rollout of shape (26, 865, 2) (steps, nodes, xy pos)\n"
     ]
    },
    {
     "data": {
      "text/html": [
       "<img src=\"media/scatter3.gif\"/>"
      ],
      "text/plain": [
       "<IPython.core.display.Image object>"
      ]
     },
     "execution_count": 37,
     "metadata": {},
     "output_type": "execute_result"
    }
   ],
   "source": [
    "print(f\"rollout of shape {rollout['predicted_rollout'].shape} (steps, nodes, xy pos)\")\n",
    "\n",
    "fig, ax = plt.subplots(1, 2)\n",
    "ax[0].set_xlim([0, 1.0])\n",
    "ax[0].set_ylim([0, 1.0])\n",
    "ax[1].set_xlim([0, 1.0])\n",
    "ax[1].set_ylim([0, 1.0])\n",
    "fig.set_size_inches(10, 5, forward=True)\n",
    "ax[0].set_title(\"GNS\")\n",
    "ax[1].set_title(\"Ground Truth\")\n",
    "\n",
    "rollout_len = rollout[\"predicted_rollout\"].shape[0] - 1\n",
    "\n",
    "scat0 = ax[0].scatter(\n",
    "    rollout[\"predicted_rollout\"][0, :, 0], rollout[\"predicted_rollout\"][0, :, 1]\n",
    ")\n",
    "scat1 = ax[1].scatter(\n",
    "    rollout[\"ground_truth_rollout\"][0, :, 0], rollout[\"ground_truth_rollout\"][0, :, 1]\n",
    ")\n",
    "\n",
    "\n",
    "def animate(i):\n",
    "    scat0.set_offsets(rollout[\"predicted_rollout\"][i])\n",
    "    scat1.set_offsets(rollout[\"ground_truth_rollout\"][i])\n",
    "    return scat0, scat1\n",
    "\n",
    "\n",
    "ani = animation.FuncAnimation(\n",
    "    fig, animate, repeat=True, frames=rollout_len, interval=50\n",
    ")\n",
    "\n",
    "plt.close(fig)\n",
    "\n",
    "writer = animation.PillowWriter(fps=10, metadata=dict(artist=\"Me\"), bitrate=1800)\n",
    "ani.save(\"media/scatter3.gif\", writer=writer)\n",
    "\n",
    "from IPython.display import Image\n",
    "\n",
    "Image(url=\"media/scatter3.gif\")"
   ]
  }
 ],
 "metadata": {
  "kernelspec": {
   "display_name": "Python 3",
   "language": "python",
   "name": "python3"
  },
  "language_info": {
   "codemirror_mode": {
    "name": "ipython",
    "version": 3
   },
   "file_extension": ".py",
   "mimetype": "text/x-python",
   "name": "python",
   "nbconvert_exporter": "python",
   "pygments_lexer": "ipython3",
   "version": "3.10.12"
  }
 },
 "nbformat": 4,
 "nbformat_minor": 2
}
