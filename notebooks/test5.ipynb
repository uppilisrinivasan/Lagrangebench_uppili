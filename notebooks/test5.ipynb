{
 "cells": [
  {
   "cell_type": "code",
   "execution_count": 42,
   "metadata": {},
   "outputs": [],
   "source": [
    "\"\"\"Dataset modules for loading HDF5 simulation trajectories.\"\"\"\n",
    "\n",
    "import bisect\n",
    "import json\n",
    "import os\n",
    "import os.path as osp\n",
    "import re\n",
    "import zipfile\n",
    "from typing import Callable, Optional\n",
    "\n",
    "import h5py\n",
    "import jax.numpy as jnp\n",
    "import numpy as np\n",
    "import wget\n",
    "from torch.utils.data import Dataset\n",
    "\n",
    "from lagrangebench.utils import NodeType"
   ]
  },
  {
   "cell_type": "code",
   "execution_count": 2,
   "metadata": {},
   "outputs": [],
   "source": [
    "def get_dataset_name_from_path(path: str) -> str:\n",
    "    \"\"\"Infer the dataset name from the provided path.\n",
    "\n",
    "    This function assumes that the dataset directory name has the following structure:\n",
    "    {2D|3D}_{TGV|RPF|LDC|DAM}_{num_particles_max}_{num_steps}every{sampling_rate}\n",
    "\n",
    "    The dataset name then becomes one of the following:\n",
    "    {tgv2d|tgv3d|rpf2d|rpf3d|ldc2d|ldc3d|dam2d}\n",
    "    \"\"\"\n",
    "\n",
    "    name = re.search(r\"(?:2D|3D)_[A-Z]{2}\", path)\n",
    "    assert name is not None, (\n",
    "        f\"No valid dataset name found in path {path}. \"\n",
    "        \"Valid name formats: {2D|3D}_{HT|TGV|RPF|LDC|DAM} \"\n",
    "        \"Alternatively, you can specify the dataset name explicitly.\"\n",
    "    )\n",
    "    name = name.group(0)\n",
    "    name = f\"{name.split('_')[1]}{name.split('_')[0]}\".lower()\n",
    "    return name"
   ]
  },
  {
   "cell_type": "code",
   "execution_count": 3,
   "metadata": {},
   "outputs": [],
   "source": [
    "class H6Dataset(Dataset):\n",
    "    \"\"\"Dataset for loading HDF5 simulation trajectories.\n",
    "\n",
    "    Reference on parallel loading of h5 samples see:\n",
    "    https://github.com/pytorch/pytorch/issues/11929\n",
    "\n",
    "    Implementation inspired by:\n",
    "    https://github.com/Open-Catalyst-Project/ocp/blob/main/ocpmodels/datasets/lmdb_dataset.py\n",
    "    \"\"\"\n",
    "\n",
    "    def __init__(\n",
    "        self,\n",
    "        split: str,\n",
    "        dataset_path: str,\n",
    "        name: Optional[str] = None,\n",
    "        input_seq_length: int = 6,\n",
    "        extra_seq_length: int = 0,\n",
    "        nl_backend: str = \"jaxmd_vmap\",\n",
    "        external_force_fn: Optional[Callable] = None,\n",
    "    ):\n",
    "        \"\"\"Initialize the dataset. If the dataset is not present, it is downloaded.\n",
    "\n",
    "        Args:\n",
    "            split: \"train\", \"valid\", or \"test\"\n",
    "            dataset_path: Path to the dataset\n",
    "            name: Name of the dataset. If None, it is inferred from the path.\n",
    "            input_seq_length: Length of the input sequence. The number of historic\n",
    "                velocities is input_seq_length - 1. And during training, the returned\n",
    "                number of past positions is input_seq_length + 1, to compute target\n",
    "                acceleration.\n",
    "            extra_seq_length: During training, this is the maximum number of pushforward\n",
    "                unroll steps. During validation/testing, this specifies the largest\n",
    "                N-step MSE loss we are interested in, e.g. for best model checkpointing.\n",
    "            nl_backend: Which backend to use for the neighbor list\n",
    "            external_force_fn: Function that returns the position-wise external force\n",
    "        \"\"\"\n",
    "\n",
    "        if dataset_path.endswith(\"/\"):  # remove trailing slash in dataset path\n",
    "            dataset_path = dataset_path[:-1]\n",
    "\n",
    "        if name is None:\n",
    "            self.name = get_dataset_name_from_path(dataset_path)\n",
    "        else:\n",
    "            self.name = name\n",
    "        if not osp.exists(dataset_path):\n",
    "            dataset_path = self.download(self.name, dataset_path)\n",
    "\n",
    "        assert split in [\"train\", \"valid\", \"test\"]\n",
    "        assert (\n",
    "            input_seq_length > 1\n",
    "        ), \"To compute at least one past velocity, input_seq_length must be >= 2.\"\n",
    "        self.dataset_path = dataset_path\n",
    "        self.file_path = osp.join(dataset_path, split + \".h5\")\n",
    "        self.input_seq_length = input_seq_length\n",
    "        self.nl_backend = nl_backend\n",
    "\n",
    "        self.external_force_fn = external_force_fn\n",
    "\n",
    "        # load dataset metadata\n",
    "        with open(osp.join(dataset_path, \"metadata.json\"), \"r\") as f:\n",
    "            self.metadata = json.loads(f.read())\n",
    "\n",
    "        self.db_hdf5 = None\n",
    "\n",
    "        with h5py.File(self.file_path, \"r\") as f:\n",
    "            self.traj_keys = list(f.keys())\n",
    "\n",
    "            # (num_steps, num_particles, dim) = f[\"00000/position\"].shape\n",
    "            self.sequence_length = f[\"00000/position\"].shape[0]\n",
    "\n",
    "        if split == \"train\":\n",
    "            # During training, the first input_seq_length steps can only be used as\n",
    "            # input, and the last one to compute the target acceleration. If we use\n",
    "            # pushforward, then we need to provide extra_seq_length more steps\n",
    "            # from the end of a trajectory. Thus, the number of training samples per\n",
    "            # trajectory becomes:\n",
    "            self.subseq_length = input_seq_length + 1 + extra_seq_length\n",
    "            samples_per_traj = self.sequence_length - self.subseq_length + 1\n",
    "\n",
    "            keylens = jnp.array([samples_per_traj for _ in range(len(self.traj_keys))])\n",
    "            self._keylen_cumulative = jnp.cumsum(keylens).tolist()\n",
    "\n",
    "            self.num_samples = sum(keylens)\n",
    "            self.getter = self.get_window\n",
    "\n",
    "        else:\n",
    "            assert (\n",
    "                extra_seq_length > 0\n",
    "            ), \"extra_seq_length must be > 0 for validation and testing.\"\n",
    "            # Compute the number of splits per validation trajectory. If the length of\n",
    "            # each trajectory is 1000, we want to compute a 20-step MSE, and\n",
    "            # intput_seq_length=6, then we should split the trajectory into\n",
    "            # _split_valid_traj_into_n = 1000 // (20 + 6) chunks.\n",
    "            self.subseq_length = input_seq_length + extra_seq_length\n",
    "            self._split_valid_traj_into_n = self.sequence_length // self.subseq_length\n",
    "\n",
    "            self.num_samples = self._split_valid_traj_into_n * len(self.traj_keys)\n",
    "            self.getter = self.get_trajectory\n",
    "\n",
    "        assert self.sequence_length >= self.subseq_length, (\n",
    "            f\"# steps in dataset trajectory ({self.sequence_length}) must be >= \"\n",
    "            f\"subsequence length ({self.subseq_length}). Reduce either \"\n",
    "            f\"input_seq_length or extra_seq_length/max pushforward steps.\"\n",
    "        )\n",
    "\n",
    "    def download(self, name: str, path: str) -> str:\n",
    "        \"\"\"Download the dataset.\n",
    "\n",
    "        Args:\n",
    "            name: Name of the dataset\n",
    "            path: Destination path to the downloaded dataset\n",
    "        \"\"\"\n",
    "\n",
    "        assert name in URLS, f\"Dataset {name} not available.\"\n",
    "        url = URLS[name]\n",
    "\n",
    "        # path could be e.g. \"./data/2D_TGV_2500_10kevery100/\"\n",
    "        # remove trailing slash if present and get the root of the datasets\n",
    "        path = path[:-1] if path.endswith(\"/\") else path\n",
    "        path_root = osp.split(path)[0]  # e.g. # \"./data\"\n",
    "\n",
    "        # download the dataset as a zip file, e.g. \"./data/2D_TGV_2500_10kevery100.zip\"\n",
    "        os.makedirs(path_root, exist_ok=True)\n",
    "        filename = wget.download(url, out=path_root)\n",
    "        print(f\"\\nDataset {name} downloaded to {filename}\")\n",
    "\n",
    "        # unzip the dataset and then remove the zip file\n",
    "        zipfile.ZipFile(filename, \"r\").extractall(path_root)\n",
    "        os.remove(filename)\n",
    "\n",
    "        return path\n",
    "\n",
    "    def _open_hdf5(self) -> h5py.File:\n",
    "        if self.db_hdf5 is None:\n",
    "            return h5py.File(self.file_path, \"r\")\n",
    "        else:\n",
    "            return self.db_hdf5\n",
    "\n",
    "    def _matscipy_pad(self, pos_input, particle_type, temp_input):\n",
    "        padding_size = self.metadata[\"num_particles_max\"] - pos_input.shape[0]\n",
    "        pos_input = np.pad(\n",
    "            pos_input,\n",
    "            ((0, padding_size), (0, 0), (0, 0)),\n",
    "            mode=\"constant\",\n",
    "            constant_values=0.0,\n",
    "        )\n",
    "        temp_input = np.pad(\n",
    "            temp_input,\n",
    "            (0, padding_size),\n",
    "            mode=\"constant\",\n",
    "            constant_values=0.0,\n",
    "        )\n",
    "        particle_type = np.pad(\n",
    "            particle_type,\n",
    "            (0, padding_size),\n",
    "            mode=\"constant\",\n",
    "            constant_values=NodeType.PAD_VALUE,\n",
    "        )\n",
    "        return pos_input, particle_type, temp_input\n",
    "\n",
    "    def get_trajectory(self, idx: int):\n",
    "        \"\"\"Get a (full) trajectory and index idx.\"\"\"\n",
    "        # open the database file\n",
    "        self.db_hdf5 = self._open_hdf5()\n",
    "\n",
    "        if self._split_valid_traj_into_n > 1:\n",
    "            traj_idx = idx // self._split_valid_traj_into_n\n",
    "            slice_from = (idx % self._split_valid_traj_into_n) * self.subseq_length\n",
    "            slice_to = slice_from + self.subseq_length\n",
    "        else:\n",
    "            traj_idx = idx\n",
    "            slice_from = 0\n",
    "            slice_to = self.sequence_length\n",
    "\n",
    "        # get a pointer to the trajectory. That is not yet the real trajectory.\n",
    "        traj = self.db_hdf5[f\"{self.traj_keys[traj_idx]}\"]\n",
    "        # get a pointer to the positions of the traj. Still nothing in memory.\n",
    "        traj_pos = traj[\"position\"]\n",
    "        # load and transpose the trajectory\n",
    "        pos_input = traj_pos[slice_from:slice_to].transpose((1, 0, 2))\n",
    "        particle_type = traj[\"particle_type\"][:]\n",
    "\n",
    "        traj_temp = traj[\"temperature\"]\n",
    "        temp_input = traj[\"temperature\"][:]\n",
    "        #temp_input = traj_temp[slice_from:slice_to].transpose((1, 0, 2))\n",
    "\n",
    "        if self.nl_backend == \"matscipy\":\n",
    "            pos_input, particle_type, temp_input = self._matscipy_pad(pos_input, particle_type, temp_input)\n",
    "\n",
    "        return pos_input, particle_type, temp_input\n",
    "\n",
    "    def get_window(self, idx: int):\n",
    "        \"\"\"Get a window of the trajectory and index idx.\"\"\"\n",
    "        # figure out which trajectory this should be indexed from.\n",
    "        traj_idx = bisect.bisect(self._keylen_cumulative, idx)\n",
    "        # extract index of element within that trajectory.\n",
    "        el_idx = idx\n",
    "        if traj_idx != 0:\n",
    "            el_idx = idx - self._keylen_cumulative[traj_idx - 1]\n",
    "        assert el_idx >= 0\n",
    "\n",
    "        # open the database file\n",
    "        self.db_hdf5 = self._open_hdf5()\n",
    "\n",
    "        # get a pointer to the trajectory. That is not yet the real trajectory.\n",
    "        traj = self.db_hdf5[f\"{self.traj_keys[traj_idx]}\"]\n",
    "        # get a pointer to the positions of the traj. Still nothing in memory.\n",
    "        traj_pos = traj[\"position\"]\n",
    "        # load only a slice of the positions. Now, this is an array in memory.\n",
    "        pos_input_and_target = traj_pos[el_idx : el_idx + self.subseq_length]\n",
    "        pos_input_and_target = pos_input_and_target.transpose((1, 0, 2))\n",
    "        \n",
    "        particle_type = traj[\"particle_type\"][:]\n",
    "\n",
    "        traj_temp = traj[\"temperature\"]\n",
    "        temp_input_and_target = traj[\"temperature\"][:]\n",
    "        #temp_input_and_target = traj_temp[el_idx : el_idx + self.subseq_length]\n",
    "        #temp_input_and_target = temp_input_and_target.transpose((1, 0, 2))\n",
    "\n",
    "        if self.nl_backend == \"matscipy\":\n",
    "            pos_input_and_target, particle_type, temp_input_and_target = self._matscipy_pad(\n",
    "                pos_input_and_target, particle_type, temp_input_and_target\n",
    "            )\n",
    "\n",
    "        return pos_input_and_target, particle_type, temp_input_and_target\n",
    "\n",
    "    def __getitem__(self, idx: int):\n",
    "        \"\"\"\n",
    "        Get a sequence of positions (of size windows) from the dataset at index idx.\n",
    "\n",
    "        Returns:\n",
    "            Array of shape (num_particles_max, input_seq_length + 1, dim). Along axis=1\n",
    "                the position sequence (length input_seq_length) and the last position to\n",
    "                compute the target acceleration.\n",
    "        \"\"\"\n",
    "        return self.getter(idx)\n",
    "\n",
    "    def __len__(self):\n",
    "        return self.num_samples\n"
   ]
  },
  {
   "cell_type": "code",
   "execution_count": 4,
   "metadata": {},
   "outputs": [],
   "source": [
    "class HT1D(H6Dataset):\n",
    "    \n",
    "\n",
    "    def __init__(\n",
    "        self,\n",
    "        split: str,\n",
    "        dataset_path: str = \"datasets/2D_HT_2500_10kevery100\",\n",
    "        input_seq_length: int = 6,\n",
    "        extra_seq_length: int = 0,\n",
    "        nl_backend: str = \"jaxmd_vmap\",\n",
    "    ):\n",
    "        super().__init__(\n",
    "            split,\n",
    "            dataset_path,\n",
    "            name=\"ht2d\",\n",
    "            input_seq_length=input_seq_length,\n",
    "            extra_seq_length=extra_seq_length,\n",
    "            nl_backend=nl_backend,\n",
    "        )"
   ]
  },
  {
   "cell_type": "code",
   "execution_count": 38,
   "metadata": {},
   "outputs": [
    {
     "name": "stdout",
     "output_type": "stream",
     "text": [
      "2D_HT_2500_10kevery100/valid.h5, traj_shape= (61, 950, 2)        , temp_shape= (61, 950)           ,   split_valid_traj_into_n= 2    , num_trajs: 3    , eval_n_trajs_infer: 6\n"
     ]
    }
   ],
   "source": [
    "p=\"datasets/2D_HT_2500_10kevery100/valid.h5\"\n",
    "valid_seq_length = 6 + 20\n",
    "with h5py.File(p, \"r\") as f:\n",
    "        pos_shape =  f[\"00000/position\"].shape\n",
    "        temp_shape =  f[\"00000/temperature\"].shape\n",
    "        split_into = pos_shape[0]//valid_seq_length\n",
    "        num_trajs = len(list(f.keys()))\n",
    "        print(f\"{p[9:]}, traj_shape= {str(pos_shape):<20}, \"\n",
    "              f\"temp_shape= {str(temp_shape):<20},   \"\n",
    "              f\"split_valid_traj_into_n= {split_into:<5}, \"\n",
    "              f\"num_trajs: {num_trajs:<5}, \"\n",
    "              f\"eval_n_trajs_infer: {split_into * num_trajs}\")"
   ]
  },
  {
   "cell_type": "code",
   "execution_count": 33,
   "metadata": {},
   "outputs": [
    {
     "name": "stdout",
     "output_type": "stream",
     "text": [
      "This is a 2D dataset called HT.\n",
      "Train snapshot have shape (950, 12, 2) (n_nodes, seq_len, xy pos).\n",
      "Val snapshot have shape (950, 26, 2) (n_nodes, rollout, xy pos).\n",
      "\n"
     ]
    }
   ],
   "source": [
    "ht2d_train = HT1D(\"train\", extra_seq_length=5)  # extra_seq_length=5 will be clear later\n",
    "ht2d_valid = HT1D(\"valid\", extra_seq_length=20)\n",
    "\n",
    "print(\n",
    "    f\"This is a {ht2d_train.metadata['dim']}D dataset \"\n",
    "    f\"called {ht2d_train.metadata['case']}.\\n\"\n",
    "    f\"Train snapshot have shape {ht2d_train[0][0].shape} (n_nodes, seq_len, xy pos).\\n\"\n",
    "    f\"Val snapshot have shape {ht2d_valid[0][0].shape} (n_nodes, rollout, xy pos).\\n\"\n",
    ")"
   ]
  },
  {
   "cell_type": "code",
   "execution_count": 36,
   "metadata": {},
   "outputs": [
    {
     "data": {
      "text/plain": [
       "array([[0.03, 0.01],\n",
       "       [0.03, 0.01],\n",
       "       [0.03, 0.01],\n",
       "       [0.03, 0.01],\n",
       "       [0.03, 0.01],\n",
       "       [0.03, 0.01],\n",
       "       [0.03, 0.01],\n",
       "       [0.03, 0.01],\n",
       "       [0.03, 0.01],\n",
       "       [0.03, 0.01],\n",
       "       [0.03, 0.01],\n",
       "       [0.03, 0.01]], dtype=float32)"
      ]
     },
     "execution_count": 36,
     "metadata": {},
     "output_type": "execute_result"
    }
   ],
   "source": [
    "ht2d_train[0][0][1]"
   ]
  },
  {
   "cell_type": "code",
   "execution_count": 9,
   "metadata": {},
   "outputs": [],
   "source": [
    "import os\n",
    "os.environ[\"CUDA_VISIBLE_DEVICES\"] = \"\"\n",
    "os.environ[\"JAX_ENABLE_X64\"] = \"True\"\n",
    "\n",
    "import lagrangebench\n",
    "import haiku as hk\n",
    "import numpy as np\n",
    "import matplotlib.pyplot as plt\n",
    "import pickle\n",
    "import matplotlib.animation as animation"
   ]
  },
  {
   "cell_type": "code",
   "execution_count": 10,
   "metadata": {},
   "outputs": [],
   "source": [
    "def gns(x):\n",
    "    return lagrangebench.GNS(\n",
    "        particle_dimension=ht2d_train.metadata[\"dim\"],\n",
    "        latent_size=16,\n",
    "        blocks_per_step=2,\n",
    "        num_mp_steps=4,\n",
    "        particle_type_embedding_size=8,\n",
    "    )(x)"
   ]
  },
  {
   "cell_type": "code",
   "execution_count": 11,
   "metadata": {},
   "outputs": [],
   "source": [
    "gns = hk.without_apply_rng(hk.transform_with_state(gns))"
   ]
  },
  {
   "cell_type": "code",
   "execution_count": 12,
   "metadata": {},
   "outputs": [],
   "source": [
    "noise_std = 3e-4\n",
    "\n",
    "pf_config = lagrangebench.PushforwardConfig(\n",
    "    steps=[-1, 500, 700],  # training steps to unlock the relative stage\n",
    "    unrolls=[0, 2, 5],  # number of unroll steps per stage\n",
    "    probs=[7, 2, 1],  # relative probabilities to unroll to the relative stage\n",
    ")"
   ]
  },
  {
   "cell_type": "code",
   "execution_count": 11,
   "metadata": {},
   "outputs": [],
   "source": [
    "bounds = np.array(ht2d_train.metadata[\"bounds\"])\n",
    "box = bounds[:, 1] - bounds[:, 0]\n",
    "\n",
    "ht2d_case = lagrangebench.case_builder(\n",
    "    box=box,  # (x,y) array with the world size along each axis. (1.0, 1.0) for 2D TGV\n",
    "    metadata=ht2d_train.metadata,  # metadata dictionary\n",
    "    input_seq_length=6,  # number of consecutive time steps fed to the model\n",
    "    isotropic_norm=False,  # whether to normalize each dimension independently\n",
    "    noise_std=noise_std,  # noise standard deviation used by the random-walk noise\n",
    ")"
   ]
  },
  {
   "cell_type": "code",
   "execution_count": 12,
   "metadata": {},
   "outputs": [
    {
     "name": "stderr",
     "output_type": "stream",
     "text": [
      "/home/uppili11/.local/lib/python3.10/site-packages/lagrangebench/case_setup/case.py:153: UserWarning: Explicitly requested dtype <class 'jax.numpy.float64'> requested in asarray is not available, and will be truncated to dtype float32. To enable more dtypes, set the jax_enable_x64 configuration option or the JAX_ENABLE_X64 shell environment variable. See https://github.com/google/jax#current-gotchas for more.\n",
      "  pos_input = jnp.asarray(sample[0], dtype=dtype)\n",
      "/home/uppili11/.local/lib/python3.10/site-packages/lagrangebench/case_setup/case.py:153: UserWarning: Explicitly requested dtype <class 'jax.numpy.float64'> requested in asarray is not available, and will be truncated to dtype float32. To enable more dtypes, set the jax_enable_x64 configuration option or the JAX_ENABLE_X64 shell environment variable. See https://github.com/google/jax#current-gotchas for more.\n",
      "  pos_input = jnp.asarray(sample[0], dtype=dtype)\n"
     ]
    },
    {
     "name": "stdout",
     "output_type": "stream",
     "text": [
      "000, train/loss: 6.41389.\n",
      "010, train/loss: 2.01731.\n",
      "020, train/loss: 2.34327.\n",
      "030, train/loss: 1.88599.\n",
      "040, train/loss: 1.88159.\n",
      "050, train/loss: 1.81747.\n"
     ]
    },
    {
     "name": "stderr",
     "output_type": "stream",
     "text": [
      "/home/uppili11/.local/lib/python3.10/site-packages/lagrangebench/case_setup/case.py:153: UserWarning: Explicitly requested dtype <class 'jax.numpy.float64'> requested in asarray is not available, and will be truncated to dtype float32. To enable more dtypes, set the jax_enable_x64 configuration option or the JAX_ENABLE_X64 shell environment variable. See https://github.com/google/jax#current-gotchas for more.\n",
      "  pos_input = jnp.asarray(sample[0], dtype=dtype)\n"
     ]
    },
    {
     "name": "stdout",
     "output_type": "stream",
     "text": [
      "(eval) Reallocate neighbors list at step 14\n",
      "(eval) From (2, 9480) to (2, 8935)\n",
      "{'val/loss': 1.4451894458034076e-05, 'val/mse1': 1.707101482395501e-08, 'val/mse10': 2.1914888748142403e-06, 'val/mse5': 5.196682764108118e-07, 'val/stdloss': 0.0, 'val/stdmse1': 0.0, 'val/stdmse10': 0.0, 'val/stdmse5': 0.0}\n",
      "060, train/loss: 1.78579.\n",
      "070, train/loss: 1.71357.\n",
      "080, train/loss: 1.73799.\n",
      "090, train/loss: 1.57330.\n",
      "100, train/loss: 1.55998.\n",
      "{'val/loss': 1.263937429030193e-05, 'val/mse1': 1.8865939921397512e-08, 'val/mse10': 1.926938693941338e-06, 'val/mse5': 4.978853098691616e-07, 'val/stdloss': 0.0, 'val/stdmse1': 0.0, 'val/stdmse10': 0.0, 'val/stdmse5': 0.0}\n"
     ]
    }
   ],
   "source": [
    "trainer = lagrangebench.Trainer(\n",
    "    model=gns,\n",
    "    case=ht2d_case,\n",
    "    data_train=ht2d_train,\n",
    "    data_valid=ht2d_valid,\n",
    "    pushforward=pf_config,\n",
    "    noise_std=noise_std,\n",
    "    metrics=[\"mse\"],\n",
    "    n_rollout_steps=20,\n",
    "    eval_n_trajs=1,\n",
    "    lr_start=5e-4,\n",
    "    log_steps=10,\n",
    "    eval_steps=50,\n",
    "    batch_size_infer=1,\n",
    ")\n",
    "\n",
    "params, state, _ = trainer(step_max=100)"
   ]
  },
  {
   "cell_type": "code",
   "execution_count": 28,
   "metadata": {},
   "outputs": [
    {
     "data": {
      "text/plain": [
       "1.0122445"
      ]
     },
     "execution_count": 28,
     "metadata": {},
     "output_type": "execute_result"
    }
   ],
   "source": [
    "ht2d_valid[5][2][0][400]"
   ]
  },
  {
   "cell_type": "code",
   "execution_count": 13,
   "metadata": {},
   "outputs": [
    {
     "data": {
      "text/plain": [
       "Text(0, 0.5, 'temp')"
      ]
     },
     "execution_count": 13,
     "metadata": {},
     "output_type": "execute_result"
    },
    {
     "data": {
      "image/png": "[encoded data removed]",
      "text/plain": [
       "<Figure size 800x400 with 1 Axes>"
      ]
     },
     "metadata": {},
     "output_type": "display_data"
    }
   ],
   "source": [
    "temp = []\n",
    "for i in range (0,61):\n",
    "    temp.append(ht2d_valid[0][2][i][400])\n",
    "\n",
    "plt.figure(figsize=(8,4))\n",
    "plt.plot(np.arange(0,5), temp, 'xb', label='dataset')\n",
    "    \n",
    "plt.legend() \n",
    "plt.grid()\n",
    "plt.title(\"temperature\")\n",
    "plt.xlabel('traj')\n",
    "plt.ylabel('temp')"
   ]
  },
  {
   "cell_type": "code",
   "execution_count": 30,
   "metadata": {},
   "outputs": [
    {
     "data": {
      "text/plain": [
       "Text(0, 0.5, 'temp')"
      ]
     },
     "execution_count": 30,
     "metadata": {},
     "output_type": "execute_result"
    },
    {
     "data": {
      "image/png": "[encoded data removed]",
      "text/plain": [
       "<Figure size 800x400 with 1 Axes>"
      ]
     },
     "metadata": {},
     "output_type": "display_data"
    }
   ],
   "source": [
    "temp = []\n",
    "for i in range (0, 5):\n",
    "    temp.append(ht2d_valid[i][2][0][400])\n",
    "\n",
    "plt.figure(figsize=(8,4))\n",
    "plt.plot(np.arange(0,5), temp, 'xb', label='dataset')\n",
    "    \n",
    "plt.legend() \n",
    "plt.grid()\n",
    "plt.title(\"temperature\")\n",
    "plt.xlabel('traj')\n",
    "plt.ylabel('temp')"
   ]
  }
 ],
 "metadata": {
  "kernelspec": {
   "display_name": "Python 3",
   "language": "python",
   "name": "python3"
  },
  "language_info": {
   "codemirror_mode": {
    "name": "ipython",
    "version": 3
   },
   "file_extension": ".py",
   "mimetype": "text/x-python",
   "name": "python",
   "nbconvert_exporter": "python",
   "pygments_lexer": "ipython3",
   "version": "3.10.12"
  }
 },
 "nbformat": 4,
 "nbformat_minor": 2
}
